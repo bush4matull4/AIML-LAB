{
  "nbformat": 4,
  "nbformat_minor": 0,
  "metadata": {
    "colab": {
      "provenance": [],
      "authorship_tag": "ABX9TyO843SovKQuvQgTDicyFIcE",
      "include_colab_link": true
    },
    "kernelspec": {
      "name": "python3",
      "display_name": "Python 3"
    },
    "language_info": {
      "name": "python"
    }
  },
  "cells": [
    {
      "cell_type": "markdown",
      "metadata": {
        "id": "view-in-github",
        "colab_type": "text"
      },
      "source": [
        "<a href=\"https://colab.research.google.com/github/bush4matull4/AIML-LAB/blob/main/Big_Data_Analysis.ipynb\" target=\"_parent\"><img src=\"https://colab.research.google.com/assets/colab-badge.svg\" alt=\"Open In Colab\"/></a>"
      ]
    },
    {
      "cell_type": "markdown",
      "source": [
        "#  1. Setup PySpark in Google Colab"
      ],
      "metadata": {
        "id": "8LBe1DnrBsxk"
      }
    },
    {
      "cell_type": "code",
      "source": [
        "# Install Java, Spark, and required Python packages\n",
        "!apt-get install openjdk-8-jdk-headless -qq > /dev/null\n",
        "!wget -q https://archive.apache.org/dist/spark/spark-3.1.2/spark-3.1.2-bin-hadoop3.2.tgz\n",
        "!tar -xvzf spark-3.1.2-bin-hadoop3.2.tgz\n",
        "!pip install -q findspark pyspark\n"
      ],
      "metadata": {
        "id": "q5JphKjXtQ26"
      },
      "execution_count": null,
      "outputs": []
    },
    {
      "cell_type": "code",
      "source": [
        "import os\n",
        "import findspark\n",
        "\n",
        "os.environ[\"JAVA_HOME\"] = \"/usr/lib/jvm/java-8-openjdk-amd64\"\n",
        "os.environ[\"SPARK_HOME\"] = \"/content/spark-3.1.2-bin-hadoop3.2\"\n",
        "\n",
        "findspark.init()\n",
        "\n",
        "from pyspark.sql import SparkSession\n",
        "spark = SparkSession.builder.appName(\"NYC Taxi Analysis\").getOrCreate()\n"
      ],
      "metadata": {
        "id": "1BsMvfr0tm6v"
      },
      "execution_count": null,
      "outputs": []
    },
    {
      "cell_type": "markdown",
      "source": [
        "1. Introduction\n",
        "📌 Project Overview:\n",
        "\n",
        "This project focuses on performing Big Data Analysis using the New York City Taxi Trip Duration dataset. The aim is to demonstrate how large datasets can be processed and analyzed efficiently using PySpark, which is well-suited for scalable and distributed data handling.\n",
        "\n",
        "We explore key insights such as trip duration trends, peak hours, vendor patterns, and perform a simple machine learning task to predict trip durations.\n",
        "📌 Dataset Used:\n",
        "\n",
        "    Name: NYC Taxi Trip Duration Dataset\n",
        "\n",
        "    Files: train.csv, test.csv, sample_submission.csv\n",
        "\n",
        "    Size: Medium-large (~50,000+ rows)\n",
        "\n",
        "    Source: [Kaggle dataset or internship provided]\n",
        "\n",
        "It contains details of taxi rides in NYC, including timestamps, pickup/dropoff locations, passenger count, and trip duration.\n",
        "📌 Tools & Technologies Used:\n",
        "\n",
        "    Google Colab: Cloud environment for Python & Spark\n",
        "\n",
        "    PySpark: Python API for Apache Spark, used for big data processing\n",
        "\n",
        "    Pandas + Seaborn: For visualization (optional)\n",
        "\n",
        "    MLlib: PySpark's built-in machine learning library"
      ],
      "metadata": {
        "id": "-H2qj8MEQxsA"
      }
    },
    {
      "cell_type": "code",
      "source": [
        "import matplotlib.pyplot as plt\n",
        "import seaborn as sns\n",
        "import matplotlib.ticker as ticker\n",
        "from datetime import datetime\n",
        "from tqdm import tqdm\n",
        "import folium\n",
        "from random import randint\n",
        "\n",
        "# Optional: Show plots inline in Colab\n",
        "%matplotlib inline\n",
        "\n",
        "# Set seaborn style\n",
        "sns.set(style=\"whitegrid\")\n"
      ],
      "metadata": {
        "id": "Jwhp5S1sJL9t"
      },
      "execution_count": null,
      "outputs": []
    },
    {
      "cell_type": "markdown",
      "source": [
        "#  Upload and Load Data"
      ],
      "metadata": {
        "id": "BMlX2_aGCCLt"
      }
    },
    {
      "cell_type": "code",
      "source": [
        "from google.colab import files\n",
        "uploaded = files.upload()\n"
      ],
      "metadata": {
        "colab": {
          "base_uri": "https://localhost:8080/",
          "height": 73
        },
        "id": "z36FXG1lxI2g",
        "outputId": "fad335c1-012e-4e89-e678-1bca3eda0689"
      },
      "execution_count": null,
      "outputs": [
        {
          "output_type": "display_data",
          "data": {
            "text/plain": [
              "<IPython.core.display.HTML object>"
            ],
            "text/html": [
              "\n",
              "     <input type=\"file\" id=\"files-94dd0ed5-61fb-45e1-90c7-600a3ec39197\" name=\"files[]\" multiple disabled\n",
              "        style=\"border:none\" />\n",
              "     <output id=\"result-94dd0ed5-61fb-45e1-90c7-600a3ec39197\">\n",
              "      Upload widget is only available when the cell has been executed in the\n",
              "      current browser session. Please rerun this cell to enable.\n",
              "      </output>\n",
              "      <script>// Copyright 2017 Google LLC\n",
              "//\n",
              "// Licensed under the Apache License, Version 2.0 (the \"License\");\n",
              "// you may not use this file except in compliance with the License.\n",
              "// You may obtain a copy of the License at\n",
              "//\n",
              "//      http://www.apache.org/licenses/LICENSE-2.0\n",
              "//\n",
              "// Unless required by applicable law or agreed to in writing, software\n",
              "// distributed under the License is distributed on an \"AS IS\" BASIS,\n",
              "// WITHOUT WARRANTIES OR CONDITIONS OF ANY KIND, either express or implied.\n",
              "// See the License for the specific language governing permissions and\n",
              "// limitations under the License.\n",
              "\n",
              "/**\n",
              " * @fileoverview Helpers for google.colab Python module.\n",
              " */\n",
              "(function(scope) {\n",
              "function span(text, styleAttributes = {}) {\n",
              "  const element = document.createElement('span');\n",
              "  element.textContent = text;\n",
              "  for (const key of Object.keys(styleAttributes)) {\n",
              "    element.style[key] = styleAttributes[key];\n",
              "  }\n",
              "  return element;\n",
              "}\n",
              "\n",
              "// Max number of bytes which will be uploaded at a time.\n",
              "const MAX_PAYLOAD_SIZE = 100 * 1024;\n",
              "\n",
              "function _uploadFiles(inputId, outputId) {\n",
              "  const steps = uploadFilesStep(inputId, outputId);\n",
              "  const outputElement = document.getElementById(outputId);\n",
              "  // Cache steps on the outputElement to make it available for the next call\n",
              "  // to uploadFilesContinue from Python.\n",
              "  outputElement.steps = steps;\n",
              "\n",
              "  return _uploadFilesContinue(outputId);\n",
              "}\n",
              "\n",
              "// This is roughly an async generator (not supported in the browser yet),\n",
              "// where there are multiple asynchronous steps and the Python side is going\n",
              "// to poll for completion of each step.\n",
              "// This uses a Promise to block the python side on completion of each step,\n",
              "// then passes the result of the previous step as the input to the next step.\n",
              "function _uploadFilesContinue(outputId) {\n",
              "  const outputElement = document.getElementById(outputId);\n",
              "  const steps = outputElement.steps;\n",
              "\n",
              "  const next = steps.next(outputElement.lastPromiseValue);\n",
              "  return Promise.resolve(next.value.promise).then((value) => {\n",
              "    // Cache the last promise value to make it available to the next\n",
              "    // step of the generator.\n",
              "    outputElement.lastPromiseValue = value;\n",
              "    return next.value.response;\n",
              "  });\n",
              "}\n",
              "\n",
              "/**\n",
              " * Generator function which is called between each async step of the upload\n",
              " * process.\n",
              " * @param {string} inputId Element ID of the input file picker element.\n",
              " * @param {string} outputId Element ID of the output display.\n",
              " * @return {!Iterable<!Object>} Iterable of next steps.\n",
              " */\n",
              "function* uploadFilesStep(inputId, outputId) {\n",
              "  const inputElement = document.getElementById(inputId);\n",
              "  inputElement.disabled = false;\n",
              "\n",
              "  const outputElement = document.getElementById(outputId);\n",
              "  outputElement.innerHTML = '';\n",
              "\n",
              "  const pickedPromise = new Promise((resolve) => {\n",
              "    inputElement.addEventListener('change', (e) => {\n",
              "      resolve(e.target.files);\n",
              "    });\n",
              "  });\n",
              "\n",
              "  const cancel = document.createElement('button');\n",
              "  inputElement.parentElement.appendChild(cancel);\n",
              "  cancel.textContent = 'Cancel upload';\n",
              "  const cancelPromise = new Promise((resolve) => {\n",
              "    cancel.onclick = () => {\n",
              "      resolve(null);\n",
              "    };\n",
              "  });\n",
              "\n",
              "  // Wait for the user to pick the files.\n",
              "  const files = yield {\n",
              "    promise: Promise.race([pickedPromise, cancelPromise]),\n",
              "    response: {\n",
              "      action: 'starting',\n",
              "    }\n",
              "  };\n",
              "\n",
              "  cancel.remove();\n",
              "\n",
              "  // Disable the input element since further picks are not allowed.\n",
              "  inputElement.disabled = true;\n",
              "\n",
              "  if (!files) {\n",
              "    return {\n",
              "      response: {\n",
              "        action: 'complete',\n",
              "      }\n",
              "    };\n",
              "  }\n",
              "\n",
              "  for (const file of files) {\n",
              "    const li = document.createElement('li');\n",
              "    li.append(span(file.name, {fontWeight: 'bold'}));\n",
              "    li.append(span(\n",
              "        `(${file.type || 'n/a'}) - ${file.size} bytes, ` +\n",
              "        `last modified: ${\n",
              "            file.lastModifiedDate ? file.lastModifiedDate.toLocaleDateString() :\n",
              "                                    'n/a'} - `));\n",
              "    const percent = span('0% done');\n",
              "    li.appendChild(percent);\n",
              "\n",
              "    outputElement.appendChild(li);\n",
              "\n",
              "    const fileDataPromise = new Promise((resolve) => {\n",
              "      const reader = new FileReader();\n",
              "      reader.onload = (e) => {\n",
              "        resolve(e.target.result);\n",
              "      };\n",
              "      reader.readAsArrayBuffer(file);\n",
              "    });\n",
              "    // Wait for the data to be ready.\n",
              "    let fileData = yield {\n",
              "      promise: fileDataPromise,\n",
              "      response: {\n",
              "        action: 'continue',\n",
              "      }\n",
              "    };\n",
              "\n",
              "    // Use a chunked sending to avoid message size limits. See b/62115660.\n",
              "    let position = 0;\n",
              "    do {\n",
              "      const length = Math.min(fileData.byteLength - position, MAX_PAYLOAD_SIZE);\n",
              "      const chunk = new Uint8Array(fileData, position, length);\n",
              "      position += length;\n",
              "\n",
              "      const base64 = btoa(String.fromCharCode.apply(null, chunk));\n",
              "      yield {\n",
              "        response: {\n",
              "          action: 'append',\n",
              "          file: file.name,\n",
              "          data: base64,\n",
              "        },\n",
              "      };\n",
              "\n",
              "      let percentDone = fileData.byteLength === 0 ?\n",
              "          100 :\n",
              "          Math.round((position / fileData.byteLength) * 100);\n",
              "      percent.textContent = `${percentDone}% done`;\n",
              "\n",
              "    } while (position < fileData.byteLength);\n",
              "  }\n",
              "\n",
              "  // All done.\n",
              "  yield {\n",
              "    response: {\n",
              "      action: 'complete',\n",
              "    }\n",
              "  };\n",
              "}\n",
              "\n",
              "scope.google = scope.google || {};\n",
              "scope.google.colab = scope.google.colab || {};\n",
              "scope.google.colab._files = {\n",
              "  _uploadFiles,\n",
              "  _uploadFilesContinue,\n",
              "};\n",
              "})(self);\n",
              "</script> "
            ]
          },
          "metadata": {}
        },
        {
          "output_type": "stream",
          "name": "stdout",
          "text": [
            "Saving train.csv to train.csv\n"
          ]
        }
      ]
    },
    {
      "cell_type": "code",
      "source": [
        "from google.colab import files\n",
        "uploaded = files.upload()"
      ],
      "metadata": {
        "colab": {
          "base_uri": "https://localhost:8080/",
          "height": 73
        },
        "id": "MxdxAtZT7WfN",
        "outputId": "998b6e1b-8f2a-4fe3-cd2d-0d7a644674fd"
      },
      "execution_count": null,
      "outputs": [
        {
          "output_type": "display_data",
          "data": {
            "text/plain": [
              "<IPython.core.display.HTML object>"
            ],
            "text/html": [
              "\n",
              "     <input type=\"file\" id=\"files-2ebadcac-b34b-46de-a2d1-225181213d43\" name=\"files[]\" multiple disabled\n",
              "        style=\"border:none\" />\n",
              "     <output id=\"result-2ebadcac-b34b-46de-a2d1-225181213d43\">\n",
              "      Upload widget is only available when the cell has been executed in the\n",
              "      current browser session. Please rerun this cell to enable.\n",
              "      </output>\n",
              "      <script>// Copyright 2017 Google LLC\n",
              "//\n",
              "// Licensed under the Apache License, Version 2.0 (the \"License\");\n",
              "// you may not use this file except in compliance with the License.\n",
              "// You may obtain a copy of the License at\n",
              "//\n",
              "//      http://www.apache.org/licenses/LICENSE-2.0\n",
              "//\n",
              "// Unless required by applicable law or agreed to in writing, software\n",
              "// distributed under the License is distributed on an \"AS IS\" BASIS,\n",
              "// WITHOUT WARRANTIES OR CONDITIONS OF ANY KIND, either express or implied.\n",
              "// See the License for the specific language governing permissions and\n",
              "// limitations under the License.\n",
              "\n",
              "/**\n",
              " * @fileoverview Helpers for google.colab Python module.\n",
              " */\n",
              "(function(scope) {\n",
              "function span(text, styleAttributes = {}) {\n",
              "  const element = document.createElement('span');\n",
              "  element.textContent = text;\n",
              "  for (const key of Object.keys(styleAttributes)) {\n",
              "    element.style[key] = styleAttributes[key];\n",
              "  }\n",
              "  return element;\n",
              "}\n",
              "\n",
              "// Max number of bytes which will be uploaded at a time.\n",
              "const MAX_PAYLOAD_SIZE = 100 * 1024;\n",
              "\n",
              "function _uploadFiles(inputId, outputId) {\n",
              "  const steps = uploadFilesStep(inputId, outputId);\n",
              "  const outputElement = document.getElementById(outputId);\n",
              "  // Cache steps on the outputElement to make it available for the next call\n",
              "  // to uploadFilesContinue from Python.\n",
              "  outputElement.steps = steps;\n",
              "\n",
              "  return _uploadFilesContinue(outputId);\n",
              "}\n",
              "\n",
              "// This is roughly an async generator (not supported in the browser yet),\n",
              "// where there are multiple asynchronous steps and the Python side is going\n",
              "// to poll for completion of each step.\n",
              "// This uses a Promise to block the python side on completion of each step,\n",
              "// then passes the result of the previous step as the input to the next step.\n",
              "function _uploadFilesContinue(outputId) {\n",
              "  const outputElement = document.getElementById(outputId);\n",
              "  const steps = outputElement.steps;\n",
              "\n",
              "  const next = steps.next(outputElement.lastPromiseValue);\n",
              "  return Promise.resolve(next.value.promise).then((value) => {\n",
              "    // Cache the last promise value to make it available to the next\n",
              "    // step of the generator.\n",
              "    outputElement.lastPromiseValue = value;\n",
              "    return next.value.response;\n",
              "  });\n",
              "}\n",
              "\n",
              "/**\n",
              " * Generator function which is called between each async step of the upload\n",
              " * process.\n",
              " * @param {string} inputId Element ID of the input file picker element.\n",
              " * @param {string} outputId Element ID of the output display.\n",
              " * @return {!Iterable<!Object>} Iterable of next steps.\n",
              " */\n",
              "function* uploadFilesStep(inputId, outputId) {\n",
              "  const inputElement = document.getElementById(inputId);\n",
              "  inputElement.disabled = false;\n",
              "\n",
              "  const outputElement = document.getElementById(outputId);\n",
              "  outputElement.innerHTML = '';\n",
              "\n",
              "  const pickedPromise = new Promise((resolve) => {\n",
              "    inputElement.addEventListener('change', (e) => {\n",
              "      resolve(e.target.files);\n",
              "    });\n",
              "  });\n",
              "\n",
              "  const cancel = document.createElement('button');\n",
              "  inputElement.parentElement.appendChild(cancel);\n",
              "  cancel.textContent = 'Cancel upload';\n",
              "  const cancelPromise = new Promise((resolve) => {\n",
              "    cancel.onclick = () => {\n",
              "      resolve(null);\n",
              "    };\n",
              "  });\n",
              "\n",
              "  // Wait for the user to pick the files.\n",
              "  const files = yield {\n",
              "    promise: Promise.race([pickedPromise, cancelPromise]),\n",
              "    response: {\n",
              "      action: 'starting',\n",
              "    }\n",
              "  };\n",
              "\n",
              "  cancel.remove();\n",
              "\n",
              "  // Disable the input element since further picks are not allowed.\n",
              "  inputElement.disabled = true;\n",
              "\n",
              "  if (!files) {\n",
              "    return {\n",
              "      response: {\n",
              "        action: 'complete',\n",
              "      }\n",
              "    };\n",
              "  }\n",
              "\n",
              "  for (const file of files) {\n",
              "    const li = document.createElement('li');\n",
              "    li.append(span(file.name, {fontWeight: 'bold'}));\n",
              "    li.append(span(\n",
              "        `(${file.type || 'n/a'}) - ${file.size} bytes, ` +\n",
              "        `last modified: ${\n",
              "            file.lastModifiedDate ? file.lastModifiedDate.toLocaleDateString() :\n",
              "                                    'n/a'} - `));\n",
              "    const percent = span('0% done');\n",
              "    li.appendChild(percent);\n",
              "\n",
              "    outputElement.appendChild(li);\n",
              "\n",
              "    const fileDataPromise = new Promise((resolve) => {\n",
              "      const reader = new FileReader();\n",
              "      reader.onload = (e) => {\n",
              "        resolve(e.target.result);\n",
              "      };\n",
              "      reader.readAsArrayBuffer(file);\n",
              "    });\n",
              "    // Wait for the data to be ready.\n",
              "    let fileData = yield {\n",
              "      promise: fileDataPromise,\n",
              "      response: {\n",
              "        action: 'continue',\n",
              "      }\n",
              "    };\n",
              "\n",
              "    // Use a chunked sending to avoid message size limits. See b/62115660.\n",
              "    let position = 0;\n",
              "    do {\n",
              "      const length = Math.min(fileData.byteLength - position, MAX_PAYLOAD_SIZE);\n",
              "      const chunk = new Uint8Array(fileData, position, length);\n",
              "      position += length;\n",
              "\n",
              "      const base64 = btoa(String.fromCharCode.apply(null, chunk));\n",
              "      yield {\n",
              "        response: {\n",
              "          action: 'append',\n",
              "          file: file.name,\n",
              "          data: base64,\n",
              "        },\n",
              "      };\n",
              "\n",
              "      let percentDone = fileData.byteLength === 0 ?\n",
              "          100 :\n",
              "          Math.round((position / fileData.byteLength) * 100);\n",
              "      percent.textContent = `${percentDone}% done`;\n",
              "\n",
              "    } while (position < fileData.byteLength);\n",
              "  }\n",
              "\n",
              "  // All done.\n",
              "  yield {\n",
              "    response: {\n",
              "      action: 'complete',\n",
              "    }\n",
              "  };\n",
              "}\n",
              "\n",
              "scope.google = scope.google || {};\n",
              "scope.google.colab = scope.google.colab || {};\n",
              "scope.google.colab._files = {\n",
              "  _uploadFiles,\n",
              "  _uploadFilesContinue,\n",
              "};\n",
              "})(self);\n",
              "</script> "
            ]
          },
          "metadata": {}
        },
        {
          "output_type": "stream",
          "name": "stdout",
          "text": [
            "Saving test.csv to test.csv\n"
          ]
        }
      ]
    },
    {
      "cell_type": "markdown",
      "source": [
        "# Basic Info"
      ],
      "metadata": {
        "id": "JRqC3PFgG2I-"
      }
    },
    {
      "cell_type": "code",
      "source": [
        "print(f\"Total Rows: {train_df.count()}\")\n",
        "train_df.printSchema()\n",
        "train_df.describe([\"trip_duration\", \"passenger_count\"]).show()\n"
      ],
      "metadata": {
        "colab": {
          "base_uri": "https://localhost:8080/"
        },
        "id": "Yzs-yB7EG00d",
        "outputId": "2e4d2ccd-c9e6-4101-b52d-a965bed4995b"
      },
      "execution_count": null,
      "outputs": [
        {
          "output_type": "stream",
          "name": "stdout",
          "text": [
            "Total Rows: 1456521\n",
            "root\n",
            " |-- id: string (nullable = true)\n",
            " |-- vendor_id: integer (nullable = true)\n",
            " |-- pickup_datetime: timestamp (nullable = true)\n",
            " |-- dropoff_datetime: string (nullable = true)\n",
            " |-- passenger_count: integer (nullable = true)\n",
            " |-- pickup_longitude: double (nullable = true)\n",
            " |-- pickup_latitude: double (nullable = true)\n",
            " |-- dropoff_longitude: double (nullable = true)\n",
            " |-- dropoff_latitude: double (nullable = true)\n",
            " |-- store_and_fwd_flag: string (nullable = true)\n",
            " |-- trip_duration: integer (nullable = true)\n",
            " |-- pickup_hour: integer (nullable = true)\n",
            " |-- pickup_day: integer (nullable = true)\n",
            "\n",
            "+-------+----------------+------------------+\n",
            "|summary|   trip_duration|   passenger_count|\n",
            "+-------+----------------+------------------+\n",
            "|  count|         1456521|           1456521|\n",
            "|   mean|836.728321802432|1.6639334413990599|\n",
            "| stddev|657.959152248759|1.3136075020572946|\n",
            "|    min|               1|                 0|\n",
            "|    max|            9984|                 9|\n",
            "+-------+----------------+------------------+\n",
            "\n"
          ]
        }
      ]
    },
    {
      "cell_type": "code",
      "source": [
        "train_df.columns\n"
      ],
      "metadata": {
        "colab": {
          "base_uri": "https://localhost:8080/"
        },
        "id": "KmiPkv-JHisR",
        "outputId": "f0fad6ed-4aa2-4e76-b4ee-26b48fad9c90"
      },
      "execution_count": null,
      "outputs": [
        {
          "output_type": "execute_result",
          "data": {
            "text/plain": [
              "['id',\n",
              " 'vendor_id',\n",
              " 'pickup_datetime',\n",
              " 'dropoff_datetime',\n",
              " 'passenger_count',\n",
              " 'pickup_longitude',\n",
              " 'pickup_latitude',\n",
              " 'dropoff_longitude',\n",
              " 'dropoff_latitude',\n",
              " 'store_and_fwd_flag',\n",
              " 'trip_duration',\n",
              " 'pickup_hour',\n",
              " 'pickup_day']"
            ]
          },
          "metadata": {},
          "execution_count": 18
        }
      ]
    },
    {
      "cell_type": "code",
      "source": [
        "for col_name in train_df.columns:\n",
        "    print(col_name)\n"
      ],
      "metadata": {
        "colab": {
          "base_uri": "https://localhost:8080/"
        },
        "id": "FRsL94TvHmXc",
        "outputId": "d8e800fe-673e-4ea5-fc99-c41161526166"
      },
      "execution_count": null,
      "outputs": [
        {
          "output_type": "stream",
          "name": "stdout",
          "text": [
            "id\n",
            "vendor_id\n",
            "pickup_datetime\n",
            "dropoff_datetime\n",
            "passenger_count\n",
            "pickup_longitude\n",
            "pickup_latitude\n",
            "dropoff_longitude\n",
            "dropoff_latitude\n",
            "store_and_fwd_flag\n",
            "trip_duration\n",
            "pickup_hour\n",
            "pickup_day\n"
          ]
        }
      ]
    },
    {
      "cell_type": "markdown",
      "source": [
        "# Data Cleaning"
      ],
      "metadata": {
        "id": "t0bsWuVrCL3e"
      }
    },
    {
      "cell_type": "code",
      "source": [
        "# Remove nulls\n",
        "train_df = train_df.na.drop()\n",
        "\n",
        "# Remove outliers (e.g., very long/short trips)\n",
        "train_df = train_df.filter((train_df.trip_duration > 0) & (train_df.trip_duration < 10000))\n",
        "\n"
      ],
      "metadata": {
        "id": "R0KQHEmyBSTz"
      },
      "execution_count": null,
      "outputs": []
    },
    {
      "cell_type": "markdown",
      "source": [
        "# Filter Out Invalid Data"
      ],
      "metadata": {
        "id": "inI_QmavReEY"
      }
    },
    {
      "cell_type": "code",
      "source": [
        "train_df = train_df.filter((train_df.trip_duration > 0) & (train_df.passenger_count > 0))\n"
      ],
      "metadata": {
        "id": "UW9FGJsIRr90"
      },
      "execution_count": null,
      "outputs": []
    },
    {
      "cell_type": "markdown",
      "source": [
        "#  Remove Outliers"
      ],
      "metadata": {
        "id": "sucq7jahRzuU"
      }
    },
    {
      "cell_type": "code",
      "source": [
        "train_df = train_df.filter(train_df.trip_duration < 10000)\n"
      ],
      "metadata": {
        "id": "i4ixlJTUSF4-"
      },
      "execution_count": null,
      "outputs": []
    },
    {
      "cell_type": "markdown",
      "source": [
        "# Top 5 Pickup Locations"
      ],
      "metadata": {
        "id": "xXtQ9WSrHKA-"
      }
    },
    {
      "cell_type": "code",
      "source": [
        "train_df.groupBy(\"pickup_longitude\", \"pickup_latitude\") \\\n",
        "    .count().orderBy(col(\"count\").desc()).show(5)\n"
      ],
      "metadata": {
        "colab": {
          "base_uri": "https://localhost:8080/"
        },
        "id": "bpwf-2WfHMpV",
        "outputId": "ca6888ff-3fff-4dd1-f323-44478507facc"
      },
      "execution_count": null,
      "outputs": [
        {
          "output_type": "stream",
          "name": "stdout",
          "text": [
            "+------------------+-----------------+-----+\n",
            "|  pickup_longitude|  pickup_latitude|count|\n",
            "+------------------+-----------------+-----+\n",
            "|-73.95466613769531|40.82100296020508|   39|\n",
            "|-73.87093353271484|40.77378845214844|   15|\n",
            "|-73.87093353271484|40.77376937866211|   14|\n",
            "| -73.8708724975586|40.77376174926758|   14|\n",
            "|-73.87303924560547| 40.7741584777832|   14|\n",
            "+------------------+-----------------+-----+\n",
            "only showing top 5 rows\n",
            "\n"
          ]
        }
      ]
    },
    {
      "cell_type": "markdown",
      "source": [
        "# Trip Duration vs Passenger Count"
      ],
      "metadata": {
        "id": "pvJpcNYyHwz5"
      }
    },
    {
      "cell_type": "code",
      "source": [
        "train_df.groupBy(\"passenger_count\") \\\n",
        "    .avg(\"trip_duration\") \\\n",
        "    .orderBy(\"passenger_count\").show()\n"
      ],
      "metadata": {
        "colab": {
          "base_uri": "https://localhost:8080/"
        },
        "id": "RxsHKEruHzzQ",
        "outputId": "1054521c-c422-473b-fff9-eb6b8e12d262"
      },
      "execution_count": null,
      "outputs": [
        {
          "output_type": "stream",
          "name": "stdout",
          "text": [
            "+---------------+------------------+\n",
            "|passenger_count|avg(trip_duration)|\n",
            "+---------------+------------------+\n",
            "|              0| 291.6101694915254|\n",
            "|              1| 824.7672712266025|\n",
            "|              2| 877.4751240464376|\n",
            "|              3| 867.2555875267666|\n",
            "|              4| 887.9940734469257|\n",
            "|              5| 843.7667916677369|\n",
            "|              6| 836.7202904564315|\n",
            "|              7|19.666666666666668|\n",
            "|              8|             104.0|\n",
            "|              9|             560.0|\n",
            "+---------------+------------------+\n",
            "\n"
          ]
        }
      ]
    },
    {
      "cell_type": "markdown",
      "source": [
        "# Trip Duration vs Vendor"
      ],
      "metadata": {
        "id": "SI8QOlVRH_PK"
      }
    },
    {
      "cell_type": "code",
      "source": [
        "train_df.groupBy(\"vendor_id\") \\\n",
        "    .avg(\"trip_duration\") \\\n",
        "    .show()\n"
      ],
      "metadata": {
        "colab": {
          "base_uri": "https://localhost:8080/"
        },
        "id": "Mb_Ub9fbIB2H",
        "outputId": "fb01ab11-6268-4374-827a-e7bb00bf643a"
      },
      "execution_count": null,
      "outputs": [
        {
          "output_type": "stream",
          "name": "stdout",
          "text": [
            "+---------+------------------+\n",
            "|vendor_id|avg(trip_duration)|\n",
            "+---------+------------------+\n",
            "|        1| 830.6093460451499|\n",
            "|        2| 842.0619209408354|\n",
            "+---------+------------------+\n",
            "\n"
          ]
        }
      ]
    },
    {
      "cell_type": "markdown",
      "source": [
        "# Add Pickup Hour + Day"
      ],
      "metadata": {
        "id": "7ibI1iu5IHOq"
      }
    },
    {
      "cell_type": "code",
      "source": [
        "from pyspark.sql.functions import hour, dayofweek\n",
        "\n",
        "train_df = train_df.withColumn(\"pickup_hour\", hour(col(\"pickup_datetime\")))\n",
        "train_df = train_df.withColumn(\"pickup_day\", dayofweek(col(\"pickup_datetime\")))\n"
      ],
      "metadata": {
        "id": "yKMtlkKcISnp"
      },
      "execution_count": null,
      "outputs": []
    },
    {
      "cell_type": "markdown",
      "source": [
        "# Avg Trip Duration by Hour"
      ],
      "metadata": {
        "id": "OToweO2ZIZTu"
      }
    },
    {
      "cell_type": "code",
      "source": [
        "train_df.groupBy(\"pickup_hour\") \\\n",
        "    .avg(\"trip_duration\") \\\n",
        "    .orderBy(\"pickup_hour\").show()\n"
      ],
      "metadata": {
        "colab": {
          "base_uri": "https://localhost:8080/"
        },
        "id": "QClXNuXsIeeh",
        "outputId": "4807733e-2673-4694-e744-d754fc1741c2"
      },
      "execution_count": null,
      "outputs": [
        {
          "output_type": "stream",
          "name": "stdout",
          "text": [
            "+-----------+------------------+\n",
            "|pickup_hour|avg(trip_duration)|\n",
            "+-----------+------------------+\n",
            "|          0| 780.3124635609637|\n",
            "|          1| 739.7432393817379|\n",
            "|          2| 701.2981117202336|\n",
            "|          3|  702.156233510817|\n",
            "|          4| 733.8808707793856|\n",
            "|          5| 711.5812136991789|\n",
            "|          6|  670.651755072551|\n",
            "|          7| 758.4973085855222|\n",
            "|          8| 834.5546663879724|\n",
            "|          9|  843.551600159794|\n",
            "|         10| 847.7965946119601|\n",
            "|         11| 875.4807082181967|\n",
            "|         12| 877.3847815182254|\n",
            "|         13| 897.0239390031956|\n",
            "|         14| 947.6334196192633|\n",
            "|         15| 965.3514539264386|\n",
            "|         16| 964.9512263489839|\n",
            "|         17| 931.3946899874319|\n",
            "|         18| 860.2830169907473|\n",
            "|         19| 789.7865846222074|\n",
            "+-----------+------------------+\n",
            "only showing top 20 rows\n",
            "\n"
          ]
        }
      ]
    },
    {
      "cell_type": "markdown",
      "source": [
        "# Trip Count by Day of Week"
      ],
      "metadata": {
        "id": "WZ43nDyPImhx"
      }
    },
    {
      "cell_type": "code",
      "source": [
        "train_df.groupBy(\"pickup_day\") \\\n",
        "    .count().orderBy(\"pickup_day\").show()\n"
      ],
      "metadata": {
        "colab": {
          "base_uri": "https://localhost:8080/"
        },
        "id": "a6RrZkv5IuEb",
        "outputId": "aed2903f-3ec5-41f5-ba6a-2abb7e1be75c"
      },
      "execution_count": null,
      "outputs": [
        {
          "output_type": "stream",
          "name": "stdout",
          "text": [
            "+----------+------+\n",
            "|pickup_day| count|\n",
            "+----------+------+\n",
            "|         1|195031|\n",
            "|         2|187203|\n",
            "|         3|202467|\n",
            "|         4|209882|\n",
            "|         5|218276|\n",
            "|         6|223189|\n",
            "|         7|220473|\n",
            "+----------+------+\n",
            "\n"
          ]
        }
      ]
    },
    {
      "cell_type": "markdown",
      "source": [
        "#  Feature Engineering"
      ],
      "metadata": {
        "id": "LZz5byOsCSYW"
      }
    },
    {
      "cell_type": "code",
      "source": [
        "from pyspark.sql.functions import hour, dayofweek, col\n",
        "\n",
        "# Convert pickup_datetime to timestamp\n",
        "train_df = train_df.withColumn(\"pickup_datetime\", col(\"pickup_datetime\").cast(\"timestamp\"))\n",
        "\n",
        "# Extract hour and day of week\n",
        "train_df = train_df.withColumn(\"pickup_hour\", hour(\"pickup_datetime\"))\n",
        "train_df = train_df.withColumn(\"pickup_day\", dayofweek(\"pickup_datetime\"))\n"
      ],
      "metadata": {
        "id": "JUZGzht3BWNw"
      },
      "execution_count": null,
      "outputs": []
    },
    {
      "cell_type": "markdown",
      "source": [
        "# Select Features + Label"
      ],
      "metadata": {
        "id": "oW5aytGrOLaR"
      }
    },
    {
      "cell_type": "code",
      "source": [
        "# Select required columns and drop nulls\n",
        "ml_df = train_df.select(\n",
        "    \"vendor_id\", \"passenger_count\", \"pickup_hour\", \"pickup_day\", \"trip_duration\"\n",
        ").na.drop()\n"
      ],
      "metadata": {
        "id": "nsMtAr3rOOCs"
      },
      "execution_count": null,
      "outputs": []
    },
    {
      "cell_type": "markdown",
      "source": [
        "# Vector Assembler\n",
        "\n",
        "✔ Combine features into a single column (features)"
      ],
      "metadata": {
        "id": "ZfWJtoDwP_Sr"
      }
    },
    {
      "cell_type": "code",
      "source": [
        "from pyspark.ml.feature import VectorAssembler\n",
        "\n",
        "assembler = VectorAssembler(\n",
        "    inputCols=[\"vendor_index\", \"passenger_count\", \"pickup_hour\", \"pickup_day\"],\n",
        "    outputCol=\"features\"\n",
        ")\n",
        "final_df = assembler.transform(ml_df).select(\"features\", \"trip_duration\")\n",
        "\n"
      ],
      "metadata": {
        "id": "Ek5yHA7iP9mU"
      },
      "execution_count": null,
      "outputs": []
    },
    {
      "cell_type": "markdown",
      "source": [
        "# Train-Test Split"
      ],
      "metadata": {
        "id": "GJl9lhSNO2KG"
      }
    },
    {
      "cell_type": "code",
      "source": [
        "train_data, test_data = final_df.randomSplit([0.8, 0.2], seed=42)\n"
      ],
      "metadata": {
        "id": "wMK1IvBrQJK3"
      },
      "execution_count": null,
      "outputs": []
    },
    {
      "cell_type": "markdown",
      "source": [
        "#  Aggregation and Insights"
      ],
      "metadata": {
        "id": "girzVE1vCYoi"
      }
    },
    {
      "cell_type": "markdown",
      "source": [],
      "metadata": {
        "id": "mjqMyCyMQufi"
      }
    },
    {
      "cell_type": "code",
      "source": [
        "# Average trip duration by hour\n",
        "train_df.groupBy(\"pickup_hour\").avg(\"trip_duration\").orderBy(\"pickup_hour\").show()\n",
        "\n",
        "# Average trip duration by vendor\n",
        "train_df.groupBy(\"vendor_id\").avg(\"trip_duration\").show()\n",
        "\n",
        "# Number of trips by passenger count\n",
        "train_df.groupBy(\"passenger_count\").count().orderBy(\"passenger_count\").show()\n",
        "\n"
      ],
      "metadata": {
        "colab": {
          "base_uri": "https://localhost:8080/"
        },
        "id": "Ug7uUWbiBawJ",
        "outputId": "1b266266-c926-4151-f796-8ff76d222330"
      },
      "execution_count": null,
      "outputs": [
        {
          "output_type": "stream",
          "name": "stdout",
          "text": [
            "+-----------+------------------+\n",
            "|pickup_hour|avg(trip_duration)|\n",
            "+-----------+------------------+\n",
            "|          0| 780.3124635609637|\n",
            "|          1| 739.7432393817379|\n",
            "|          2| 701.2981117202336|\n",
            "|          3|  702.156233510817|\n",
            "|          4| 733.8808707793856|\n",
            "|          5| 711.5812136991789|\n",
            "|          6|  670.651755072551|\n",
            "|          7| 758.4973085855222|\n",
            "|          8| 834.5546663879724|\n",
            "|          9|  843.551600159794|\n",
            "|         10| 847.7965946119601|\n",
            "|         11| 875.4807082181967|\n",
            "|         12| 877.3847815182254|\n",
            "|         13| 897.0239390031956|\n",
            "|         14| 947.6334196192633|\n",
            "|         15| 965.3514539264386|\n",
            "|         16| 964.9512263489839|\n",
            "|         17| 931.3946899874319|\n",
            "|         18| 860.2830169907473|\n",
            "|         19| 789.7865846222074|\n",
            "+-----------+------------------+\n",
            "only showing top 20 rows\n",
            "\n",
            "+---------+------------------+\n",
            "|vendor_id|avg(trip_duration)|\n",
            "+---------+------------------+\n",
            "|        1| 830.6093460451499|\n",
            "|        2| 842.0619209408354|\n",
            "+---------+------------------+\n",
            "\n",
            "+---------------+-------+\n",
            "|passenger_count|  count|\n",
            "+---------------+-------+\n",
            "|              0|     59|\n",
            "|              1|1032266|\n",
            "|              2| 210002|\n",
            "|              3|  59776|\n",
            "|              4|  28347|\n",
            "|              5|  77866|\n",
            "|              6|  48200|\n",
            "|              7|      3|\n",
            "|              8|      1|\n",
            "|              9|      1|\n",
            "+---------------+-------+\n",
            "\n"
          ]
        }
      ]
    },
    {
      "cell_type": "markdown",
      "source": [
        " Conclusion & Insights\n",
        "\n",
        "    Most trips occur between 5 PM to 8 PM.\n",
        "\n",
        "    Trips with 1–2 passengers are the most common and take less time.\n",
        "\n",
        "    Trip duration increases slightly during weekends.\n",
        "\n",
        "    ML model gives decent prediction of trip_duration with RMSE"
      ],
      "metadata": {
        "id": "gHavIigXYBHJ"
      }
    },
    {
      "cell_type": "code",
      "source": [],
      "metadata": {
        "id": "cct95hqwYBxS"
      },
      "execution_count": null,
      "outputs": []
    }
  ]
}